{
  "cells": [
    {
      "cell_type": "markdown",
      "id": "a31308f9",
      "metadata": {
        "id": "a31308f9"
      },
      "source": [
        "# 🌟 Simple Word Embeddings Tutorial\n",
        "\n",
        "This notebook gives you a **simple and clear introduction** to word embeddings with both **theory** and **small code examples**."
      ]
    },
    {
      "cell_type": "markdown",
      "id": "b6e47869",
      "metadata": {
        "id": "b6e47869"
      },
      "source": [
        "## 🔹 What are Word Embeddings?\n",
        "- Words are usually represented as text, but computers work with numbers.\n",
        "- One way is **One-Hot Encoding** (a long vector with a single `1` and rest `0`).\n",
        "- Problem: one-hot doesn’t show similarity (e.g., *king* and *queen* look unrelated).\n",
        "\n",
        "👉 **Word Embeddings** solve this by mapping words into a **dense vector space** where:\n",
        "- Similar words are close together (small distance).\n",
        "- Relations can be captured as vector operations."
      ]
    },
    {
      "cell_type": "markdown",
      "id": "b8ba6435",
      "metadata": {
        "id": "b8ba6435"
      },
      "source": [
        "## 🔹 One-Hot Encoding Example"
      ]
    },
    {
      "cell_type": "code",
      "execution_count": 1,
      "id": "1a832358",
      "metadata": {
        "colab": {
          "base_uri": "https://localhost:8080/"
        },
        "id": "1a832358",
        "outputId": "98d1f35b-163e-4c51-9530-ea6fe3049a50"
      },
      "outputs": [
        {
          "output_type": "stream",
          "name": "stdout",
          "text": [
            "king [1. 0. 0. 0.]\n",
            "queen [0. 1. 0. 0.]\n",
            "man [0. 0. 1. 0.]\n",
            "woman [0. 0. 0. 1.]\n"
          ]
        }
      ],
      "source": [
        "\n",
        "import numpy as np\n",
        "\n",
        "vocab = [\"king\",\"queen\",\"man\",\"woman\"]\n",
        "v2i = {w:i for i,w in enumerate(vocab)}\n",
        "\n",
        "def one_hot(word):\n",
        "    vec = np.zeros(len(vocab))\n",
        "    vec[v2i[word]] = 1\n",
        "    return vec\n",
        "\n",
        "for w in vocab:\n",
        "    print(w, one_hot(w))\n"
      ]
    },
    {
      "cell_type": "code",
      "metadata": {
        "colab": {
          "base_uri": "https://localhost:8080/",
          "height": 668
        },
        "id": "0e46046a",
        "outputId": "dfe4d87f-09b3-4f07-f0e4-4f1483eaa4ed"
      },
      "source": [
        "%pip install gensim"
      ],
      "id": "0e46046a",
      "execution_count": 3,
      "outputs": [
        {
          "output_type": "stream",
          "name": "stdout",
          "text": [
            "Collecting gensim\n",
            "  Downloading gensim-4.3.3-cp312-cp312-manylinux_2_17_x86_64.manylinux2014_x86_64.whl.metadata (8.1 kB)\n",
            "Collecting numpy<2.0,>=1.18.5 (from gensim)\n",
            "  Downloading numpy-1.26.4-cp312-cp312-manylinux_2_17_x86_64.manylinux2014_x86_64.whl.metadata (61 kB)\n",
            "\u001b[2K     \u001b[90m━━━━━━━━━━━━━━━━━━━━━━━━━━━━━━━━━━━━━━━━\u001b[0m \u001b[32m61.0/61.0 kB\u001b[0m \u001b[31m1.4 MB/s\u001b[0m eta \u001b[36m0:00:00\u001b[0m\n",
            "\u001b[?25hCollecting scipy<1.14.0,>=1.7.0 (from gensim)\n",
            "  Downloading scipy-1.13.1-cp312-cp312-manylinux_2_17_x86_64.manylinux2014_x86_64.whl.metadata (60 kB)\n",
            "\u001b[2K     \u001b[90m━━━━━━━━━━━━━━━━━━━━━━━━━━━━━━━━━━━━━━━━\u001b[0m \u001b[32m60.6/60.6 kB\u001b[0m \u001b[31m3.8 MB/s\u001b[0m eta \u001b[36m0:00:00\u001b[0m\n",
            "\u001b[?25hRequirement already satisfied: smart-open>=1.8.1 in /usr/local/lib/python3.12/dist-packages (from gensim) (7.3.1)\n",
            "Requirement already satisfied: wrapt in /usr/local/lib/python3.12/dist-packages (from smart-open>=1.8.1->gensim) (1.17.3)\n",
            "Downloading gensim-4.3.3-cp312-cp312-manylinux_2_17_x86_64.manylinux2014_x86_64.whl (26.6 MB)\n",
            "\u001b[2K   \u001b[90m━━━━━━━━━━━━━━━━━━━━━━━━━━━━━━━━━━━━━━━━\u001b[0m \u001b[32m26.6/26.6 MB\u001b[0m \u001b[31m65.3 MB/s\u001b[0m eta \u001b[36m0:00:00\u001b[0m\n",
            "\u001b[?25hDownloading numpy-1.26.4-cp312-cp312-manylinux_2_17_x86_64.manylinux2014_x86_64.whl (18.0 MB)\n",
            "\u001b[2K   \u001b[90m━━━━━━━━━━━━━━━━━━━━━━━━━━━━━━━━━━━━━━━━\u001b[0m \u001b[32m18.0/18.0 MB\u001b[0m \u001b[31m70.7 MB/s\u001b[0m eta \u001b[36m0:00:00\u001b[0m\n",
            "\u001b[?25hDownloading scipy-1.13.1-cp312-cp312-manylinux_2_17_x86_64.manylinux2014_x86_64.whl (38.2 MB)\n",
            "\u001b[2K   \u001b[90m━━━━━━━━━━━━━━━━━━━━━━━━━━━━━━━━━━━━━━━━\u001b[0m \u001b[32m38.2/38.2 MB\u001b[0m \u001b[31m15.0 MB/s\u001b[0m eta \u001b[36m0:00:00\u001b[0m\n",
            "\u001b[?25hInstalling collected packages: numpy, scipy, gensim\n",
            "  Attempting uninstall: numpy\n",
            "    Found existing installation: numpy 2.0.2\n",
            "    Uninstalling numpy-2.0.2:\n",
            "      Successfully uninstalled numpy-2.0.2\n",
            "  Attempting uninstall: scipy\n",
            "    Found existing installation: scipy 1.16.2\n",
            "    Uninstalling scipy-1.16.2:\n",
            "      Successfully uninstalled scipy-1.16.2\n",
            "\u001b[31mERROR: pip's dependency resolver does not currently take into account all the packages that are installed. This behaviour is the source of the following dependency conflicts.\n",
            "tsfresh 0.21.1 requires scipy>=1.14.0; python_version >= \"3.10\", but you have scipy 1.13.1 which is incompatible.\n",
            "opencv-contrib-python 4.12.0.88 requires numpy<2.3.0,>=2; python_version >= \"3.9\", but you have numpy 1.26.4 which is incompatible.\n",
            "opencv-python-headless 4.12.0.88 requires numpy<2.3.0,>=2; python_version >= \"3.9\", but you have numpy 1.26.4 which is incompatible.\n",
            "thinc 8.3.6 requires numpy<3.0.0,>=2.0.0, but you have numpy 1.26.4 which is incompatible.\n",
            "opencv-python 4.12.0.88 requires numpy<2.3.0,>=2; python_version >= \"3.9\", but you have numpy 1.26.4 which is incompatible.\u001b[0m\u001b[31m\n",
            "\u001b[0mSuccessfully installed gensim-4.3.3 numpy-1.26.4 scipy-1.13.1\n"
          ]
        },
        {
          "output_type": "display_data",
          "data": {
            "application/vnd.colab-display-data+json": {
              "pip_warning": {
                "packages": [
                  "numpy"
                ]
              },
              "id": "e32cf3718c564134a2bda43a271781fb"
            }
          },
          "metadata": {}
        }
      ]
    },
    {
      "cell_type": "markdown",
      "id": "2730b350",
      "metadata": {
        "id": "2730b350"
      },
      "source": [
        "## 🔹 Word2Vec (Skip-gram)\n",
        "We will train a **Word2Vec model** on a small toy dataset.\n",
        "\n",
        "**Key ideas:**\n",
        "- `vector_size=50`: dimension of embeddings.\n",
        "- `window=3`: context window (how many words around).\n",
        "- `sg=1`: use Skip-gram model.\n",
        "- `epochs=100`: training iterations."
      ]
    },
    {
      "cell_type": "code",
      "execution_count": 1,
      "id": "6d499e54",
      "metadata": {
        "colab": {
          "base_uri": "https://localhost:8080/"
        },
        "id": "6d499e54",
        "outputId": "f4b2043a-6d97-445b-a448-3f6742c07ee7"
      },
      "outputs": [
        {
          "output_type": "stream",
          "name": "stdout",
          "text": [
            "✅ Model trained!\n",
            "Vocabulary learned: ['learning', 'is', 'machine', 'capture', 'fun', 'deep', 'part', 'of', 'word', 'embeddings', 'animals', 'are', 'python', 'good', 'for', 'data', 'science', 'dogs', 'and', 'cats', 'meaning']\n"
          ]
        }
      ],
      "source": [
        "\n",
        "from gensim.models import Word2Vec\n",
        "\n",
        "# Small toy corpus\n",
        "sentences = [\n",
        "    [\"machine\", \"learning\", \"is\", \"fun\"],\n",
        "    [\"deep\", \"learning\", \"is\", \"part\", \"of\", \"machine\", \"learning\"],\n",
        "    [\"word\", \"embeddings\", \"capture\", \"meaning\"],\n",
        "    [\"python\", \"is\", \"good\", \"for\", \"data\", \"science\"],\n",
        "    [\"dogs\", \"and\", \"cats\", \"are\", \"animals\"]\n",
        "]\n",
        "\n",
        "# Train Word2Vec model\n",
        "model = Word2Vec(sentences, vector_size=50, window=3, sg=1, min_count=1, epochs=100)\n",
        "\n",
        "print(\"✅ Model trained!\")\n",
        "print(\"Vocabulary learned:\", list(model.wv.index_to_key))\n"
      ]
    },
    {
      "cell_type": "markdown",
      "id": "9e197666",
      "metadata": {
        "id": "9e197666"
      },
      "source": [
        "## 🔹 Explore Embeddings"
      ]
    },
    {
      "cell_type": "code",
      "execution_count": 2,
      "id": "85d9f504",
      "metadata": {
        "colab": {
          "base_uri": "https://localhost:8080/"
        },
        "id": "85d9f504",
        "outputId": "92e8885b-f710-48de-e064-2dae217016ea"
      },
      "outputs": [
        {
          "output_type": "stream",
          "name": "stdout",
          "text": [
            "Vector for 'machine':\n",
            "[-0.01735396  0.00739039  0.01035547  0.01146773  0.01485122 -0.01251868\n",
            "  0.00223522  0.01215477 -0.0057764  -0.0125055 ]\n",
            "\n",
            "Most similar to 'machine':\n",
            "[('and', 0.19656218588352203), ('fun', 0.16703037917613983), ('are', 0.15817426145076752)]\n"
          ]
        }
      ],
      "source": [
        "\n",
        "# Vector for a word\n",
        "print(\"Vector for 'machine':\")\n",
        "print(model.wv['machine'][:10])  # First 10 dimensions\n",
        "\n",
        "# Similar words\n",
        "print(\"\\nMost similar to 'machine':\")\n",
        "print(model.wv.most_similar('machine', topn=3))\n"
      ]
    },
    {
      "cell_type": "markdown",
      "id": "cada0b3e",
      "metadata": {
        "id": "cada0b3e"
      },
      "source": [
        "## 🔹 Visualizing Embeddings in 2D\n",
        "We use **PCA** to reduce 50 dimensions to 2D and plot them."
      ]
    },
    {
      "cell_type": "code",
      "execution_count": 3,
      "id": "7267927e",
      "metadata": {
        "colab": {
          "base_uri": "https://localhost:8080/",
          "height": 545
        },
        "id": "7267927e",
        "outputId": "79905f08-78f4-4ae7-f18f-a69d6da5a85c"
      },
      "outputs": [
        {
          "output_type": "display_data",
          "data": {
            "text/plain": [
              "<Figure size 800x600 with 1 Axes>"
            ],
            "image/png": "[encoded data removed]"
          },
          "metadata": {}
        }
      ],
      "source": [
        "\n",
        "import matplotlib.pyplot as plt\n",
        "from sklearn.decomposition import PCA\n",
        "\n",
        "words = list(model.wv.index_to_key)\n",
        "X = model.wv[words]\n",
        "\n",
        "pca = PCA(n_components=2)\n",
        "X_pca = pca.fit_transform(X)\n",
        "\n",
        "plt.figure(figsize=(8,6))\n",
        "plt.scatter(X_pca[:,0], X_pca[:,1])\n",
        "\n",
        "for i, word in enumerate(words):\n",
        "    plt.annotate(word, (X_pca[i,0], X_pca[i,1]))\n",
        "\n",
        "plt.title(\"2D Visualization of Word Embeddings\")\n",
        "plt.show()\n"
      ]
    },
    {
      "cell_type": "markdown",
      "id": "b5aa7987",
      "metadata": {
        "id": "b5aa7987"
      },
      "source": [
        "## ✅ Summary\n",
        "- **One-hot encoding** is simple but does not capture meaning.\n",
        "- **Word embeddings** place words in a vector space where similar words are close.\n",
        "- **Word2Vec** is a popular algorithm (Skip-gram / CBOW).\n",
        "- You can explore embeddings using similarity and visualization.\n",
        "\n",
        "👉 For real projects, use **pre-trained embeddings** (GloVe, fastText, BERT) trained on huge corpora."
      ]
    }
  ],
  "metadata": {
    "colab": {
      "provenance": []
    },
    "language_info": {
      "name": "python"
    },
    "kernelspec": {
      "name": "python3",
      "display_name": "Python 3"
    }
  },
  "nbformat": 4,
  "nbformat_minor": 5
}